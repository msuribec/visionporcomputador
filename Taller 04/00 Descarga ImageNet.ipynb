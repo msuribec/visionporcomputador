{
 "cells": [
  {
   "cell_type": "code",
   "execution_count": 1,
   "metadata": {},
   "outputs": [],
   "source": [
    "import os\n",
    "import urllib.request\n",
    "import zipfile"
   ]
  },
  {
   "cell_type": "code",
   "execution_count": 2,
   "metadata": {},
   "outputs": [],
   "source": [
    "data_dir = './data/tiny-imagenet-200'\n",
    "os.makedirs(os.path.dirname(data_dir), exist_ok=True)"
   ]
  },
  {
   "cell_type": "code",
   "execution_count": 3,
   "metadata": {},
   "outputs": [],
   "source": [
    "url = 'http://cs231n.stanford.edu/tiny-imagenet-200.zip'\n",
    "zip_path = os.path.join(os.path.dirname(data_dir), 'tiny-imagenet-200.zip')\n",
    "\n",
    "urllib.request.urlretrieve(url, zip_path)\n",
    "with zipfile.ZipFile(zip_path, 'r') as zip_ref:\n",
    "        zip_ref.extractall(os.path.dirname(data_dir))\n",
    "    \n",
    "os.remove(zip_path)\n"
   ]
  },
  {
   "cell_type": "code",
   "execution_count": null,
   "metadata": {},
   "outputs": [],
   "source": []
  }
 ],
 "metadata": {
  "language_info": {
   "name": "python"
  }
 },
 "nbformat": 4,
 "nbformat_minor": 2
}
